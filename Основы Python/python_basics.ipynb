{
 "cells": [
  {
   "cell_type": "markdown",
   "metadata": {},
   "source": [
    "**Задание 1**. Даны 2 строки: *long_phrase* и *short_phrase*. \n",
    "Напишите код, который проверяет действительно ли длинная фраза *long_phrase* длиннее короткой *short_phrase*. И выводит *True* или *False* в зависимости от результата сравнения."
   ]
  },
  {
   "cell_type": "code",
   "execution_count": 1,
   "metadata": {},
   "outputs": [],
   "source": [
    "long_phrase = 'Насколько проще было бы писать программы, если бы не заказчики'\n",
    "short_phrase = '640Кб должно хватить для любых задач. Билл Гейтс (по легенде)'"
   ]
  },
  {
   "cell_type": "code",
   "execution_count": 2,
   "metadata": {},
   "outputs": [
    {
     "data": {
      "text/plain": [
       "True"
      ]
     },
     "execution_count": 2,
     "metadata": {},
     "output_type": "execute_result"
    }
   ],
   "source": [
    "len(long_phrase) > len(short_phrase)"
   ]
  },
  {
   "cell_type": "markdown",
   "metadata": {},
   "source": [
    "**Задание 2**. Дано значение объема файла в байтах (*в мегабайте 2^20 байт*). Напишите перевод этого значения в мегабайты в формате: \"*Объем файла равен 213.68Mb*\"."
   ]
  },
  {
   "cell_type": "code",
   "execution_count": 3,
   "metadata": {},
   "outputs": [
    {
     "name": "stdout",
     "output_type": "stream",
     "text": [
      "56\n",
      "\"Объем файла равен 5.340576171875e-05Mb\".\n"
     ]
    }
   ],
   "source": [
    "byte = int(input())\n",
    "mbyte = byte /(2**20)\n",
    "print('\"Объем файла равен ' + str(mbyte) + 'Mb\".')"
   ]
  },
  {
   "cell_type": "markdown",
   "metadata": {},
   "source": [
    "**Задание 3**. Разработать приложение для определения знака зодиака по дате рождения. Пример:\n",
    "\n",
    "Введите месяц: март\n",
    "\n",
    "Введите число: 6\n",
    "\n",
    "Вывод:\n",
    "Рыбы"
   ]
  },
  {
   "cell_type": "code",
   "execution_count": 4,
   "metadata": {},
   "outputs": [
    {
     "name": "stdout",
     "output_type": "stream",
     "text": [
      "Введите месяц: Апрель\n",
      "Введите число: 13\n",
      "Овен\n"
     ]
    }
   ],
   "source": [
    "MonthNumber = ['Январь', 'Февраль', 'Март', 'Апрель', 'Май', 'Июнь', 'Июль', 'Август', 'Сентябрь', 'Октябрь', 'Ноябрь', 'Декабрь']\n",
    "calender = [['Январь', 31], ['Февраль', 29], ['Март', 31], ['Апрель', 30], ['Май', 31], ['Июнь', 30], ['Июль', 31], ['Август', 31], ['Сентябрь', 30], ['Октябрь', 31], ['Ноябрь', 30], ['Декабрь', 31]]\n",
    "month = str(input('Введите месяц: '))\n",
    "RightMonthNumber = -1\n",
    "for i in range(len(MonthNumber)):\n",
    "    if(MonthNumber[i] == month):\n",
    "        RightMonthNumber = i\n",
    "if(RightMonthNumber < 0):\n",
    "    print ('ОШИБКА!')\n",
    "else:\n",
    "    days_sum = 0\n",
    "    number = int(input('Введите число: '))\n",
    "    for i in range(RightMonthNumber):\n",
    "        days_sum += calender [i][1]\n",
    "    days_sum += number\n",
    "    if (0 < days_sum <= 19) or (357 <= days_sum <= 366):\n",
    "        print('Козерог')\n",
    "    elif days_sum <= 49:\n",
    "        print('Водолей')\n",
    "    elif days_sum <= 80:\n",
    "        print('Рыбы')\n",
    "    elif days_sum <= 110:\n",
    "        print('Овен')\n",
    "    elif days_sum <= 141:\n",
    "        print('Телец')\n",
    "    elif days_sum <= 172:\n",
    "        print('Близнецы')\n",
    "    elif days_sum <= 204:\n",
    "        print('Рак')\n",
    "    elif days_sum <= 235:\n",
    "        print('Лев')\n",
    "    elif days_sum <= 266:\n",
    "        print('Дева')\n",
    "    elif days_sum <= 296:\n",
    "        print('Весы')\n",
    "    elif days_sum <= 326:\n",
    "        print('Скорпион')\n",
    "    elif days_sum <= 356:\n",
    "        print('Стрелец')\n",
    "    else: \n",
    "        print('ОШИБКА!')\n",
    "\n",
    "    "
   ]
  },
  {
   "cell_type": "markdown",
   "metadata": {},
   "source": [
    "**Задание 4**. Нужно разработать приложение для финансового планирования.\n",
    "Приложение учитывает сколько уходит на ипотеку, \"на жизнь\" и сколько нужно отложить на пенсию.\n",
    "Пользователь вводит:\n",
    "- заработанную плату в месяц.\n",
    "- сколько процентов от ЗП уходит на ипотеку.\n",
    "- сколько процентов от ЗП уходит \"на жизнь\".\n",
    "- сколько раз приходит премия в год.\n",
    "\n",
    "Остальная часть заработанной платы откладывается на пенсию.\n",
    "\n",
    "Также пользователю приходит премия в размере зарплаты, от которой половина уходит на отпуск, а вторая половина откладывается.\n",
    "\n",
    "Программа должна учитывать сколько премий было в год.\n",
    "\n",
    "Нужно вывести сколько денег тратит пользователь на ипотеку и сколько он накопит за год.\n",
    "\n",
    "Пример:\n",
    "\n",
    "Введите заработанную плату в месяц: 100000\n",
    "\n",
    "Введите сколько процентов уходит на ипотеку: 30\n",
    "\n",
    "Введите сколько процентов уходит на жизнь: 50\n",
    "\n",
    "Введите количество премий за год: 2\n",
    "\n",
    "Вывод:\n",
    "На ипотеку было потрачено: 360000 рублей\n",
    "Было накоплено: 340000 рублей"
   ]
  },
  {
   "cell_type": "code",
   "execution_count": 5,
   "metadata": {},
   "outputs": [
    {
     "name": "stdout",
     "output_type": "stream",
     "text": [
      "Введите заработную плату в месяц: 100000\n",
      "Введите сколько процентов уходит на ипотеку: 30\n",
      "Введите сколько процентов уходит на жизнь: 50\n",
      "Введите количество премий за год: 2\n",
      "На ипотеку было потрачено:  360000.0 рублей Было накоплено:  340000.0 рублей\n"
     ]
    }
   ],
   "source": [
    "salary = int(input('Введите заработную плату в месяц: '))\n",
    "mortgage = int(input('Введите сколько процентов уходит на ипотеку: '))\n",
    "life = int(input('Введите сколько процентов уходит на жизнь: '))\n",
    "bonus = int(input('Введите количество премий за год: '))\n",
    "year_salary = salary * 12\n",
    "mortgage_number = salary * mortgage / 100\n",
    "mortgage_number_year = mortgage_number * 12\n",
    "life_number = salary * life / 100\n",
    "life_number_year = life_number * 12\n",
    "spare_bonus = salary * bonus / 2\n",
    "spare = year_salary - mortgage_number_year - life_number_year + spare_bonus\n",
    "print('На ипотеку было потрачено: ', mortgage_number_year, 'рублей', 'Было накоплено: ', spare, 'рублей')\n"
   ]
  },
  {
   "cell_type": "code",
   "execution_count": null,
   "metadata": {},
   "outputs": [],
   "source": []
  }
 ],
 "metadata": {
  "kernelspec": {
   "display_name": "Python 3",
   "language": "python",
   "name": "python3"
  },
  "language_info": {
   "codemirror_mode": {
    "name": "ipython",
    "version": 3
   },
   "file_extension": ".py",
   "mimetype": "text/x-python",
   "name": "python",
   "nbconvert_exporter": "python",
   "pygments_lexer": "ipython3",
   "version": "3.7.6"
  }
 },
 "nbformat": 4,
 "nbformat_minor": 2
}
