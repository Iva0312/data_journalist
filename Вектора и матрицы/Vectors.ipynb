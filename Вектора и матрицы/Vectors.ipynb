{
 "cells": [
  {
   "cell_type": "markdown",
   "metadata": {},
   "source": [
    "# Домашняя работа №1"
   ]
  },
  {
   "cell_type": "code",
   "execution_count": 4,
   "metadata": {},
   "outputs": [],
   "source": [
    "import numpy as np\n",
    "import matplotlib.pyplot as plt"
   ]
  },
  {
   "cell_type": "markdown",
   "metadata": {},
   "source": [
    "## Задание 1"
   ]
  },
  {
   "cell_type": "markdown",
   "metadata": {},
   "source": [
    "Изобразите с помощью matplotlib. Изобразите точку x + 2y + 3z. Найдите угол между векторами x, y и x, z. "
   ]
  },
  {
   "cell_type": "code",
   "execution_count": 7,
   "metadata": {},
   "outputs": [],
   "source": [
    "x = np.array([1,1])\n",
    "y = np.array([2, 0])\n",
    "z = np.array([0,2])"
   ]
  },
  {
   "cell_type": "code",
   "execution_count": 19,
   "metadata": {},
   "outputs": [
    {
     "data": {
      "text/plain": [
       "<matplotlib.collections.PathCollection at 0x18c1461bb48>"
      ]
     },
     "execution_count": 19,
     "metadata": {},
     "output_type": "execute_result"
    },
    {
     "data": {
      "image/png": "[encoded data removed]",
      "text/plain": [
       "<Figure size 432x288 with 1 Axes>"
      ]
     },
     "metadata": {
      "needs_background": "light"
     },
     "output_type": "display_data"
    }
   ],
   "source": [
    "t = x + (2 * y) + (3 * z)\n",
    "plt.scatter(t[0], t[1])"
   ]
  },
  {
   "cell_type": "code",
   "execution_count": 33,
   "metadata": {},
   "outputs": [
    {
     "name": "stdout",
     "output_type": "stream",
     "text": [
      "0.7853981633974484\n",
      "0.7853981633974484\n",
      "45.00000000000001\n",
      "45.00000000000001\n"
     ]
    }
   ],
   "source": [
    "xLength = np.linalg.norm(x)\n",
    "yLength = np.linalg.norm(y)\n",
    "zLength = np.linalg.norm(z)\n",
    "\n",
    "#расчет угла в радианах\n",
    "print(np.arccos(np.dot(x,y) / ( xLength * yLength )))\n",
    "print(np.arccos(np.dot(x,z) / ( xLength * zLength )))\n",
    "\n",
    "#расчет в градусах\n",
    "print((np.arccos(np.dot(x,y) / ( xLength * yLength ))) * 360 / 2 / np.pi)\n",
    "print((np.arccos(np.dot(x,z) / ( xLength * zLength ))) * 360 / 2 / np.pi)"
   ]
  },
  {
   "cell_type": "markdown",
   "metadata": {},
   "source": [
    "## Задание 2"
   ]
  },
  {
   "cell_type": "markdown",
   "metadata": {},
   "source": [
    "Найдите собственные значения и собственные вектора матриц (необходимо решение на numpy и решение по алгоритму на бумажке). Для матрицы 3x3 можно посмотреть на корни характеристического многочлена, посчитанные в numpy."
   ]
  },
  {
   "cell_type": "code",
   "execution_count": 34,
   "metadata": {},
   "outputs": [],
   "source": [
    "m1 = np.array([[2, 2],\n",
    "               [1, 3]])\n",
    "\n",
    "m2 = np.array([[4, 1, -1],\n",
    "               [1, 4, -1],\n",
    "               [-1, -1, 4]])"
   ]
  },
  {
   "cell_type": "code",
   "execution_count": 35,
   "metadata": {},
   "outputs": [
    {
     "name": "stdout",
     "output_type": "stream",
     "text": [
      "Собственное значение 1.0\n",
      "соответствующий ему собственный вектор [-0.89442719  0.4472136 ]\n",
      "Собственное значение 4.0\n",
      "соответствующий ему собственный вектор [-0.70710678 -0.70710678]\n"
     ]
    }
   ],
   "source": [
    "w, v = np.linalg.eig(m1)\n",
    "\n",
    "for i in range(len(w)):\n",
    "    print(\"Собственное значение \" + str(w[i]))\n",
    "    print(\"соответствующий ему собственный вектор \" + str(v[:,i]))"
   ]
  },
  {
   "cell_type": "code",
   "execution_count": 36,
   "metadata": {},
   "outputs": [
    {
     "name": "stdout",
     "output_type": "stream",
     "text": [
      "Собственное значение 2.999999999999999\n",
      "соответствующий ему собственный вектор [-0.81649658  0.40824829 -0.40824829]\n",
      "Собственное значение 5.999999999999997\n",
      "соответствующий ему собственный вектор [ 0.57735027  0.57735027 -0.57735027]\n",
      "Собственное значение 2.9999999999999996\n",
      "соответствующий ему собственный вектор [-0.27658128  0.8035929   0.52701162]\n"
     ]
    }
   ],
   "source": [
    "w2, v2 = np.linalg.eig(m2)\n",
    "\n",
    "for i in range(len(w2)):\n",
    "    print(\"Собственное значение \" + str(w2[i]))\n",
    "    print(\"соответствующий ему собственный вектор \" + str(v2[:,i]))"
   ]
  },
  {
   "cell_type": "code",
   "execution_count": 38,
   "metadata": {},
   "outputs": [
    {
     "ename": "SyntaxError",
     "evalue": "invalid syntax (<ipython-input-38-a9b975288231>, line 1)",
     "output_type": "error",
     "traceback": [
      "\u001b[1;36m  File \u001b[1;32m\"<ipython-input-38-a9b975288231>\"\u001b[1;36m, line \u001b[1;32m1\u001b[0m\n\u001b[1;33m    (2, 2 , => |2-л, 2| = 0 => (2-л)(3-л)-2 = 0 => 6-3л-2л+л^2-2 = 0 => л^2-5л+4 = 0\u001b[0m\n\u001b[1;37m            ^\u001b[0m\n\u001b[1;31mSyntaxError\u001b[0m\u001b[1;31m:\u001b[0m invalid syntax\n"
     ]
    }
   ],
   "source": [
    "#далее решение по бумажке\n",
    "#(2, 2 , => |2-л, 2| = 0 => (2-л)(3-л)-2 = 0 => 6-3л-2л+л^2-2 = 0 => л^2-5л+4 = 0\n",
    "# 1, 3)    |1, 3-л|\n",
    "\n",
    "#л^2 - 5л - 4 = 0\n",
    "#D = sqrt(25-16) = 3\n",
    "#л = (5+-3)/2\n",
    "#л1 = 4, л2 = 1"
   ]
  },
  {
   "cell_type": "code",
   "execution_count": 39,
   "metadata": {},
   "outputs": [],
   "source": [
    "#(2 2   x = 4x\n",
    "#1 3) * y   4y\n",
    "\n",
    "#2x + 2y = 4x\n",
    "#x + 3y = 4y\n",
    "\n",
    "#x = y\n",
    "#y = x\n",
    "\n",
    "#(2 2   x = x\n",
    "#1 3) * y   y\n",
    "\n",
    "#2x + 2y = x\n",
    "#x + 3y = y\n",
    "\n",
    "#x = -2y\n",
    "#y = - 1/2x\n",
    "\n",
    "#Ответ для первой матрицы m1: собственные значения: л1 = 4, л2 = 1; собственные векторы: u1 = [1,1], u2 = [-2,1]"
   ]
  },
  {
   "cell_type": "code",
   "execution_count": null,
   "metadata": {},
   "outputs": [],
   "source": [
    "#4, 1, -1,   x   3x\n",
    "#1, 4, -1, * y = 3y\n",
    "#-1, -1, 4   z   3z\n",
    "\n",
    "#4x + y - z = 3x\n",
    "#x + 4y - z = 3y\n",
    "#-x - y + 4z = 3z\n",
    "\n",
    "#x + y - z = 0\n",
    "#x + y - z = 0\n",
    "#x + y - z = 0\n",
    "#z = x + y\n",
    "\n",
    "#[1 1 2] [1 2 3]\n",
    "\n",
    "#4, 1, -1,   x   6x\n",
    "#1, 4, -1, * y = 6y\n",
    "#-1, -1, 4   z   6z\n",
    "\n",
    "#4x + y - z = 6x\n",
    "#x + 4y - z = 6y\n",
    "#-x - y + 4z = 6z\n",
    "\n",
    "#y - z - 2x = 0\n",
    "#x - 2y - z = 0\n",
    "#-x - y - 2z = 0\n",
    "\n",
    "#y = z + 2x\n",
    "#x - 2z - 4x - z = 0\n",
    "#-x - z - 2x - 2z = 0\n",
    "\n",
    "#y = z + 2x\n",
    "#-3x - 3z = 0\n",
    "#-3x - 3z = 0\n",
    "\n",
    "#y = z + 2x\n",
    "#z = -x\n",
    "#z = -x\n",
    "\n",
    "#y = x\n",
    "#z = -x\n",
    "#z = -x\n",
    "\n",
    "#[1 1 -1]\n",
    "\n",
    "#Ответ для второй матрицы m2:собственные векторы: u1 = [1,1,2], u2 = [1,1,-1], u3 = [1,2,3]"
   ]
  },
  {
   "cell_type": "code",
   "execution_count": null,
   "metadata": {},
   "outputs": [],
   "source": [
    "## Задание 3"
   ]
  },
  {
   "cell_type": "markdown",
   "metadata": {},
   "source": [
    "Найдите сингулярное разложение матрицы."
   ]
  },
  {
   "cell_type": "code",
   "execution_count": 40,
   "metadata": {},
   "outputs": [],
   "source": [
    "m3 = np.array([[1, 2],\n",
    "               [2, 3]])"
   ]
  },
  {
   "cell_type": "code",
   "execution_count": 41,
   "metadata": {},
   "outputs": [
    {
     "data": {
      "text/plain": [
       "(array([[-0.52573111, -0.85065081],\n",
       "        [-0.85065081,  0.52573111]]),\n",
       " array([4.23606798, 0.23606798]),\n",
       " array([[-0.52573111, -0.85065081],\n",
       "        [ 0.85065081, -0.52573111]]))"
      ]
     },
     "execution_count": 41,
     "metadata": {},
     "output_type": "execute_result"
    }
   ],
   "source": [
    "np.linalg.svd(m3)"
   ]
  },
  {
   "cell_type": "code",
   "execution_count": null,
   "metadata": {},
   "outputs": [],
   "source": []
  }
 ],
 "metadata": {
  "kernelspec": {
   "display_name": "Python 3",
   "language": "python",
   "name": "python3"
  },
  "language_info": {
   "codemirror_mode": {
    "name": "ipython",
    "version": 3
   },
   "file_extension": ".py",
   "mimetype": "text/x-python",
   "name": "python",
   "nbconvert_exporter": "python",
   "pygments_lexer": "ipython3",
   "version": "3.7.6"
  }
 },
 "nbformat": 4,
 "nbformat_minor": 2
}
