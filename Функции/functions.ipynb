{
 "cells": [
  {
   "cell_type": "markdown",
   "metadata": {},
   "source": [
    "Вы работаете секретарем и вам постоянно приходят различные документы. Вы должны быть очень внимательны, чтобы не потерять ни один документ. Каталог документов хранится в следующем виде:"
   ]
  },
  {
   "cell_type": "code",
   "execution_count": 1,
   "metadata": {},
   "outputs": [],
   "source": [
    "documents = [\n",
    "    {'type': 'passport', 'number': '2207 876234', 'name': 'Василий Гупкин'},\n",
    "    {'type': 'invoice', 'number': '11-2', 'name': 'Геннадий Покемонов'},\n",
    "    {'type': 'insurance', 'number': '10006', 'name': 'Аристарх Павлов'}\n",
    "]"
   ]
  },
  {
   "cell_type": "markdown",
   "metadata": {},
   "source": [
    "Перечень полок, на которых находятся документы хранится в следующем виде:"
   ]
  },
  {
   "cell_type": "code",
   "execution_count": 2,
   "metadata": {},
   "outputs": [],
   "source": [
    "directories = {\n",
    "    '1': ['2207 876234', '11-2'],\n",
    "    '2': ['10006'],\n",
    "    '3': []\n",
    "}"
   ]
  },
  {
   "cell_type": "markdown",
   "metadata": {},
   "source": [
    "Необходимо реализовать пользовательские команды (внимание! это не название функций, которые должны быть выразительными, а команды, которые вводит пользователь, чтобы получить необходимый результат):\n",
    "  \n",
    "- p – people – команда, которая спросит номер документа и выведет имя человека, которому он принадлежит;  \n",
    "- s – shelf – команда, которая спросит номер документа и выведет номер полки, на которой он находится  \n",
    "*Правильно обработайте ситуации, когда пользователь будет вводить несуществующий документ*.\n",
    "- l – list – команда, которая выведет список всех документов в формате   \n",
    "**passport \"2207 876234\" \"Василий Гупкин\"**  \n",
    "- as – add shelf – команда, которая спросит номер новой полки и добавит ее в перечень. *Предусмотрите случай, когда пользователь добавляет полку, которая уже существует*.\n",
    "- d – delete – команда, которая спросит номер документа и удалит его из каталога и из перечня полок. *Предусмотрите сценарий, когда пользователь вводит несуществующий документ*;  \n",
    "- m – move – команда, которая спросит номер документа и целевую полку и переместит его с текущей полки на целевую. *Корректно обработайте кейсы, когда пользователь пытается переместить несуществующий документ или переместить документ на несуществующую полку*;  \n",
    "- a – add – команда, которая добавит новый документ в каталог и в перечень полок, спросив его номер, тип, имя владельца и номер полки, на котором он будет храниться. *Корректно обработайте ситуацию, когда пользователь будет пытаться добавить документ на несуществующую полку*."
   ]
  },
  {
   "cell_type": "code",
   "execution_count": 3,
   "metadata": {},
   "outputs": [],
   "source": [
    "def people(number):\n",
    "    we_have_document = False\n",
    "    for d in documents:\n",
    "        if number == d['number']:\n",
    "            we_have_document = True\n",
    "            print(d['name'])\n",
    "    if not we_have_document:\n",
    "        print('Несуществующий документ')\n"
   ]
  },
  {
   "cell_type": "code",
   "execution_count": 4,
   "metadata": {},
   "outputs": [],
   "source": [
    "def shelf(number):\n",
    "    we_have_document = False\n",
    "    for k, v in directories.items():\n",
    "        if number in v:\n",
    "            we_have_document = True\n",
    "            print(k)\n",
    "    if not we_have_document:\n",
    "        print('Несуществующий документ')"
   ]
  },
  {
   "cell_type": "code",
   "execution_count": 5,
   "metadata": {},
   "outputs": [],
   "source": [
    "def all_documents():\n",
    "    for a in documents:\n",
    "        print(a['type'],'\"' + a['number'] + '\" \"' + a['name'] + '\"')"
   ]
  },
  {
   "cell_type": "code",
   "execution_count": 6,
   "metadata": {},
   "outputs": [],
   "source": [
    "def add_shelf(new_shelf):\n",
    "    if new_shelf in directories:\n",
    "        print('Полка уже существует')\n",
    "    else: \n",
    "        directories[new_shelf] = []\n",
    "        print('Новая полка добавлена')"
   ]
  },
  {
   "cell_type": "code",
   "execution_count": 7,
   "metadata": {},
   "outputs": [],
   "source": [
    "def delete(number):\n",
    "    we_have_document = False\n",
    "    for c in range(len(documents)):\n",
    "        if number == documents[c]['number']:\n",
    "            del documents[c]\n",
    "            we_have_document = True\n",
    "            break\n",
    "    key = 0\n",
    "    for k, d in directories.items():\n",
    "        if number in d:\n",
    "            key = k \n",
    "            we_have_document = True\n",
    "            break\n",
    "    if not we_have_document:\n",
    "        print('Несуществующий документ')\n",
    "    else:\n",
    "        del directories[key]\n",
    "        print('Документ успешно удален')"
   ]
  },
  {
   "cell_type": "code",
   "execution_count": 8,
   "metadata": {},
   "outputs": [],
   "source": [
    "def move(number, shelf):\n",
    "    we_have_document = False\n",
    "    if shelf not in directories:\n",
    "        print('Полки не существует')\n",
    "    for k, v in directories.items():\n",
    "        if number in v:\n",
    "            we_have_document = True\n",
    "            directories[shelf] += [number]\n",
    "            v.remove(number)\n",
    "    if not we_have_document:\n",
    "        print('Несуществующий документ')\n",
    "    if we_have_document:\n",
    "        print('Документ успешно перемещен')"
   ]
  },
  {
   "cell_type": "code",
   "execution_count": 9,
   "metadata": {},
   "outputs": [],
   "source": [
    "def add(numb, typ, nam, shelf):\n",
    "    if shelf not in directories:\n",
    "        print('Полки не существует')\n",
    "    else:\n",
    "        new_doc = {'type': typ, 'number': numb, 'name': nam}\n",
    "        documents.append(new_doc)\n",
    "        directories[shelf] = [numb]\n",
    "        print('Документ успешно  добавлен')"
   ]
  },
  {
   "cell_type": "code",
   "execution_count": 27,
   "metadata": {},
   "outputs": [
    {
     "name": "stdout",
     "output_type": "stream",
     "text": [
      "Введите команду: a\n",
      "Введите номер нового документа 666\n",
      "Введите тип нового документа insurance\n",
      "Введите имя владельца нового документа Виктор Трошин\n",
      "Введите полку, на которой будет храниться документ 3\n",
      "Документ успешно  добавлен\n"
     ]
    }
   ],
   "source": [
    "command = input('Введите команду: ')\n",
    "if command == 'p':\n",
    "    number = input('Введите номер документа: ')\n",
    "    people(number)\n",
    "elif command == 's':\n",
    "    number = input('Введите номер документа: ')\n",
    "    shelf(number)\n",
    "elif command == 'l':\n",
    "    all_documents()\n",
    "elif command == 'a_s':\n",
    "    new_shelf = input('Введите номер новой полки: ')\n",
    "    add_shelf(new_shelf)\n",
    "elif command == 'd':\n",
    "    number = ('Введите номер документа: ')\n",
    "    delete(number)\n",
    "elif command == 'm':\n",
    "    number = input('Введите номер документа ')\n",
    "    shelf = input('Введите номер полки ')\n",
    "    move (number, shelf)\n",
    "elif command == 'a':\n",
    "    numb = input('Введите номер нового документа ')\n",
    "    typ = input('Введите тип нового документа ')\n",
    "    nam = input('Введите имя владельца нового документа ')\n",
    "    shelf = input('Введите полку, на которой будет храниться документ ')\n",
    "    add(numb, typ, nam, shelf)\n",
    "else:\n",
    "    print('Неправильная команда')\n",
    "    \n"
   ]
  },
  {
   "cell_type": "code",
   "execution_count": 28,
   "metadata": {},
   "outputs": [
    {
     "data": {
      "text/plain": [
       "[{'type': 'passport', 'number': '2207 876234', 'name': 'Василий Гупкин'},\n",
       " {'type': 'invoice', 'number': '11-2', 'name': 'Геннадий Покемонов'},\n",
       " {'type': 'insurance', 'number': '10006', 'name': 'Аристарх Павлов'},\n",
       " {'type': 'insurance', 'number': '666', 'name': 'Виктор Трошин'}]"
      ]
     },
     "execution_count": 28,
     "metadata": {},
     "output_type": "execute_result"
    }
   ],
   "source": []
  },
  {
   "cell_type": "code",
   "execution_count": null,
   "metadata": {},
   "outputs": [],
   "source": []
  }
 ],
 "metadata": {
  "kernelspec": {
   "display_name": "Python 3",
   "language": "python",
   "name": "python3"
  },
  "language_info": {
   "codemirror_mode": {
    "name": "ipython",
    "version": 3
   },
   "file_extension": ".py",
   "mimetype": "text/x-python",
   "name": "python",
   "nbconvert_exporter": "python",
   "pygments_lexer": "ipython3",
   "version": "3.7.6"
  }
 },
 "nbformat": 4,
 "nbformat_minor": 2
}
